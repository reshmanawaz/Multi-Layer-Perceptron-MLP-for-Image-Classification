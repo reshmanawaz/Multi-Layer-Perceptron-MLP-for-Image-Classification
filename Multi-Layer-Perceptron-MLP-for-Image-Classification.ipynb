{
 "cells": [
  {
   "cell_type": "code",
   "execution_count": 2,
   "id": "cbe40a46",
   "metadata": {},
   "outputs": [],
   "source": [
    "import numpy as np\n",
    "import matplotlib.pyplot as plt\n",
    "import h5py\n",
    "import json"
   ]
  },
  {
   "attachments": {},
   "cell_type": "markdown",
   "id": "597b80ca",
   "metadata": {},
   "source": [
    " ## Create an MLP to classify 784-dimensional images into the target 10-dimensional output. Used ReLU activation for the two hidden layers and softmax the output layer."
   ]
  },
  {
   "cell_type": "code",
   "execution_count": 3,
   "id": "c9a9e933",
   "metadata": {
    "scrolled": false
   },
   "outputs": [
    {
     "name": "stdout",
     "output_type": "stream",
     "text": [
      "Extracted Weights and Bias from the mnist_network_params.hdf5 file\n",
      "W1 shape: (200, 784)\n",
      "b1 shape: (200,)\n",
      "W2 shape: (100, 200)\n",
      "b2 shape: (100,)\n",
      "W3 shape: (10, 100)\n",
      "b3 shape: (10,)\n",
      "Results have been added to result.json\n",
      "Number of correct classifications 9790\n",
      "Number of wrong classifications 210\n"
     ]
    },
    {
     "data": {
      "image/png": "[encoded data removed]",
      "text/plain": [
       "<Figure size 640x480 with 1 Axes>"
      ]
     },
     "metadata": {},
     "output_type": "display_data"
    }
   ],
   "source": [
    "#read weights and biases\n",
    "weight_bias_data = 'mnist_network_params.hdf5' \n",
    "test_data = 'mnist_testdata.hdf5'  \n",
    "\n",
    "#extract weights and bias data from the mnist_network_params.hdf5\n",
    "with h5py.File(weight_bias_data, 'r') as file: \n",
    "    #The file has 6 keys corresponding to: W 1, b 1, W 2, b 2, W 3, b 3. Verify the dimension of each numpy array with the shape property.\n",
    "    W_1 = file['W1'][:]\n",
    "    b_1 = file['b1'][:] \n",
    "    W_2 = file['W2'][:]     \n",
    "    b_2 = file['b2'][:]\n",
    "    W_3 = file['W3'][:]\n",
    "    b_3 = file['b3'][:]\n",
    "    \n",
    "#verify the dimensions of each numpy array\n",
    "print(\"Extracted Weights and Bias from the mnist_network_params.hdf5 file\")\n",
    "print(\"W1 shape:\", W_1.shape)\n",
    "print(\"b1 shape:\", b_1.shape)\n",
    "print(\"W2 shape:\", W_2.shape)\n",
    "print(\"b2 shape:\", b_2.shape)\n",
    "print(\"W3 shape:\", W_3.shape)\n",
    "print(\"b3 shape:\", b_3.shape)\n",
    "\n",
    "#extract xdata holds that holds pixel intensities and ydata that contains the corresponding class labels\n",
    "with h5py.File(test_data, 'r') as file:\n",
    "    x_data  = file['xdata'][:]\n",
    "    y_data  = file['ydata'][:] \n",
    "    \n",
    "#create MLP using numpy to classify 784-dimensional images into the target 10-dimensional output\n",
    "#ReLU Function = f(x)=max(0,x) \n",
    "def relu(x):\n",
    "    return np.maximum(0,x)\n",
    "\n",
    "#softmax func \n",
    "def softmax(x):\n",
    "    numerator = np.exp(x)\n",
    "    denominator = np.sum(np.exp(x))\n",
    "    output = np.exp(x)/np.sum(np.exp(x))  \n",
    "    return output\n",
    "\n",
    "def forward_propagation(x):\n",
    "    output1 = np.dot(W_1, x) + b_1\n",
    "    active1 = relu(output1)\n",
    "    output2 = np.dot(W_2, active1) + b_2\n",
    "    active2 = relu(output2)\n",
    "    output3 = np.dot(W_3, active2) + b_3\n",
    "    active3 = softmax(output3)\n",
    "    return active3\n",
    "\n",
    "store_prediction = []\n",
    "\n",
    "#making predictions on each sample of the dataset  \n",
    "correct_counter = 0\n",
    "wrong_counter = 0\n",
    "for i in range(x_data.shape[0]): #iterate a 10,000 times for 10,000 images\n",
    "    x1 = x_data[i, :]\n",
    "    y_pred = forward_propagation(x1)\n",
    "    index = np.argmax(y_pred)\n",
    "    true = np.argmax(y_data[i])\n",
    "    \n",
    "    if index == true:\n",
    "        correct_counter += 1 #increment correct counter\n",
    "    else:\n",
    "        wrong_counter += 1 #increment wrong counter\n",
    "    \n",
    "    activations = [float(val) for val in y_pred]\n",
    "    classification = int(index)\n",
    "    output = {\"index\": i, \"activations\": activations, \"classification\": classification}\n",
    "    store_prediction.append(output)\n",
    "\n",
    "#format and write your results to file result.json\n",
    "with open(\"result.json\", \"w\") as f:\n",
    "    f.write(json.dumps(store_prediction))\n",
    "    \n",
    "print(\"Results have been added to result.json\")\n",
    "    \n",
    "#Compare your prediction with the (true) ydata label\n",
    "print(\"Number of correct classifications\", correct_counter)\n",
    "print(\"Number of wrong classifications\", wrong_counter)\n",
    "\n",
    "#plot the graph \n",
    "plt.imshow(x_data[i].reshape(28,28))\n",
    "plt.show()\n"
   ]
  }
 ],
 "metadata": {
  "kernelspec": {
   "display_name": "Python 3 (ipykernel)",
   "language": "python",
   "name": "python3"
  },
  "language_info": {
   "codemirror_mode": {
    "name": "ipython",
    "version": 3
   },
   "file_extension": ".py",
   "mimetype": "text/x-python",
   "name": "python",
   "nbconvert_exporter": "python",
   "pygments_lexer": "ipython3",
   "version": "3.11.5"
  }
 },
 "nbformat": 4,
 "nbformat_minor": 5
}
